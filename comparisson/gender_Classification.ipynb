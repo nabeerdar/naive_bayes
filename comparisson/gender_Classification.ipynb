{
 "cells": [
  {
   "cell_type": "code",
   "execution_count": 1,
   "id": "b0cdc77c",
   "metadata": {},
   "outputs": [],
   "source": [
    "import numpy as np\n",
    "import pandas as pd\n",
    "from sklearn.naive_bayes import MultinomialNB\n",
    "from sklearn.linear_model import LogisticRegression\n",
    "from sklearn.model_selection import train_test_split\n",
    "from sklearn.metrics import classification_report, confusion_matrix"
   ]
  },
  {
   "cell_type": "code",
   "execution_count": 2,
   "id": "56b3e9a6",
   "metadata": {},
   "outputs": [],
   "source": [
    "gender_data_with_null_duplicates_values = pd.read_csv(\"gender_classification.csv\")"
   ]
  },
  {
   "cell_type": "code",
   "execution_count": 3,
   "id": "29bb4b14",
   "metadata": {
    "scrolled": true
   },
   "outputs": [
    {
     "data": {
      "text/html": [
       "<div>\n",
       "<style scoped>\n",
       "    .dataframe tbody tr th:only-of-type {\n",
       "        vertical-align: middle;\n",
       "    }\n",
       "\n",
       "    .dataframe tbody tr th {\n",
       "        vertical-align: top;\n",
       "    }\n",
       "\n",
       "    .dataframe thead th {\n",
       "        text-align: right;\n",
       "    }\n",
       "</style>\n",
       "<table border=\"1\" class=\"dataframe\">\n",
       "  <thead>\n",
       "    <tr style=\"text-align: right;\">\n",
       "      <th></th>\n",
       "      <th>long_hair</th>\n",
       "      <th>forehead_width_cm</th>\n",
       "      <th>forehead_height_cm</th>\n",
       "      <th>nose_wide</th>\n",
       "      <th>nose_long</th>\n",
       "      <th>lips_thin</th>\n",
       "      <th>distance_nose_to_lip_long</th>\n",
       "      <th>gender</th>\n",
       "    </tr>\n",
       "  </thead>\n",
       "  <tbody>\n",
       "    <tr>\n",
       "      <th>0</th>\n",
       "      <td>1</td>\n",
       "      <td>11.8</td>\n",
       "      <td>6.1</td>\n",
       "      <td>1</td>\n",
       "      <td>0</td>\n",
       "      <td>1</td>\n",
       "      <td>1</td>\n",
       "      <td>Male</td>\n",
       "    </tr>\n",
       "    <tr>\n",
       "      <th>1</th>\n",
       "      <td>0</td>\n",
       "      <td>14.0</td>\n",
       "      <td>5.4</td>\n",
       "      <td>0</td>\n",
       "      <td>0</td>\n",
       "      <td>1</td>\n",
       "      <td>0</td>\n",
       "      <td>Female</td>\n",
       "    </tr>\n",
       "    <tr>\n",
       "      <th>2</th>\n",
       "      <td>0</td>\n",
       "      <td>11.8</td>\n",
       "      <td>6.3</td>\n",
       "      <td>1</td>\n",
       "      <td>1</td>\n",
       "      <td>1</td>\n",
       "      <td>1</td>\n",
       "      <td>Male</td>\n",
       "    </tr>\n",
       "    <tr>\n",
       "      <th>3</th>\n",
       "      <td>0</td>\n",
       "      <td>14.4</td>\n",
       "      <td>6.1</td>\n",
       "      <td>0</td>\n",
       "      <td>1</td>\n",
       "      <td>1</td>\n",
       "      <td>1</td>\n",
       "      <td>Male</td>\n",
       "    </tr>\n",
       "    <tr>\n",
       "      <th>4</th>\n",
       "      <td>1</td>\n",
       "      <td>13.5</td>\n",
       "      <td>5.9</td>\n",
       "      <td>0</td>\n",
       "      <td>0</td>\n",
       "      <td>0</td>\n",
       "      <td>0</td>\n",
       "      <td>Female</td>\n",
       "    </tr>\n",
       "  </tbody>\n",
       "</table>\n",
       "</div>"
      ],
      "text/plain": [
       "   long_hair  forehead_width_cm  forehead_height_cm  nose_wide  nose_long  \\\n",
       "0          1               11.8                 6.1          1          0   \n",
       "1          0               14.0                 5.4          0          0   \n",
       "2          0               11.8                 6.3          1          1   \n",
       "3          0               14.4                 6.1          0          1   \n",
       "4          1               13.5                 5.9          0          0   \n",
       "\n",
       "   lips_thin  distance_nose_to_lip_long  gender  \n",
       "0          1                          1    Male  \n",
       "1          1                          0  Female  \n",
       "2          1                          1    Male  \n",
       "3          1                          1    Male  \n",
       "4          0                          0  Female  "
      ]
     },
     "execution_count": 3,
     "metadata": {},
     "output_type": "execute_result"
    }
   ],
   "source": [
    "gender_data_with_duplicates_values = gender_data_with_null_duplicates_values.dropna()\n",
    "gender_data = gender_data_with_duplicates_values.drop_duplicates()\n",
    "gender_data.head()"
   ]
  },
  {
   "cell_type": "code",
   "execution_count": 4,
   "id": "4ebb65c4",
   "metadata": {},
   "outputs": [
    {
     "data": {
      "text/plain": [
       "(3233, 8)"
      ]
     },
     "execution_count": 4,
     "metadata": {},
     "output_type": "execute_result"
    }
   ],
   "source": [
    "gender_data.shape"
   ]
  },
  {
   "cell_type": "code",
   "execution_count": 5,
   "id": "386a030a",
   "metadata": {},
   "outputs": [
    {
     "data": {
      "text/plain": [
       "Male      1783\n",
       "Female    1450\n",
       "Name: gender, dtype: int64"
      ]
     },
     "execution_count": 5,
     "metadata": {},
     "output_type": "execute_result"
    }
   ],
   "source": [
    "gender_data['gender'].value_counts()"
   ]
  },
  {
   "cell_type": "code",
   "execution_count": 6,
   "id": "fab5b123",
   "metadata": {},
   "outputs": [],
   "source": [
    "gender_data_train, gender_data_test= train_test_split(gender_data,test_size=0.33, stratify = gender_data['gender'])"
   ]
  },
  {
   "cell_type": "code",
   "execution_count": 7,
   "id": "2c776541",
   "metadata": {},
   "outputs": [
    {
     "name": "stdout",
     "output_type": "stream",
     "text": [
      "1783\n",
      "1450\n"
     ]
    }
   ],
   "source": [
    "gender = gender_data['gender']\n",
    "male_count = 0\n",
    "female_count = 0\n",
    "for distribute_gender in gender:\n",
    "    if distribute_gender == 'Male':\n",
    "        male_count += 1\n",
    "    else:\n",
    "        female_count += 1\n",
    "print(male_count)\n",
    "print(female_count)"
   ]
  },
  {
   "cell_type": "code",
   "execution_count": 8,
   "id": "2a3c46e2",
   "metadata": {},
   "outputs": [],
   "source": [
    "train_gender_data_features = gender_data_train.drop('gender', axis='columns')\n",
    "train_target = gender_data_train['gender']"
   ]
  },
  {
   "cell_type": "code",
   "execution_count": 9,
   "id": "9a4242f7",
   "metadata": {},
   "outputs": [],
   "source": [
    "test_gender_data_features = gender_data_test.drop('gender', axis='columns')\n",
    "test_target = gender_data_test['gender']"
   ]
  },
  {
   "cell_type": "code",
   "execution_count": 10,
   "id": "4e6fd048",
   "metadata": {},
   "outputs": [],
   "source": [
    "def converted(f1, f2, f3, f4, f5, f6, f7):\n",
    "#     f1, f2, f3, f4, f5, f6 = [f1], [f2], [f3], [f4], [f5], [f6]\n",
    "#     f1 = le_buying.transform(f1)\n",
    "#     f2 = le_maint.transform(f2)\n",
    "#     f3 = le_doors.transform(f3)\n",
    "#     f4 = le_persons.transform(f4)\n",
    "#     f5 = le_lug_boot.transform(f5)\n",
    "#     f6 = le_safety.transform(f6)\n",
    "#     features = [[f1[0],f2[0],f3[0],f4[0],f5[0],f6[0]]]\n",
    "    f1 = float(f1)\n",
    "    f2 = float(f2)\n",
    "    f3 = float(f3)\n",
    "    f4 = float(f4)\n",
    "    f5 = float(f5)\n",
    "    f6 = float(f6)\n",
    "    f7 = float(f7)\n",
    "    features = [[f1,f2,f3,f4,f5,f6,f7]]\n",
    "    return features"
   ]
  },
  {
   "cell_type": "code",
   "execution_count": 11,
   "id": "57c0c020",
   "metadata": {},
   "outputs": [],
   "source": [
    "feature_1 = \"1\"\n",
    "feature_2 = \"14.4\"\n",
    "feature_3 = '6.1'\n",
    "feature_4 = '0'\n",
    "feature_5 = \"1\"\n",
    "feature_6 = \"1\"\n",
    "feature_7 = \"1\""
   ]
  },
  {
   "cell_type": "code",
   "execution_count": 12,
   "id": "5f448f55",
   "metadata": {
    "scrolled": true
   },
   "outputs": [
    {
     "name": "stdout",
     "output_type": "stream",
     "text": [
      "[[1.0, 14.4, 6.1, 0.0, 1.0, 1.0, 1.0]]\n"
     ]
    }
   ],
   "source": [
    "converted_features = converted(feature_1, feature_2, feature_3, feature_4, feature_5, feature_6, feature_7)\n",
    "print(converted_features)"
   ]
  },
  {
   "cell_type": "code",
   "execution_count": 13,
   "id": "08d07958",
   "metadata": {},
   "outputs": [],
   "source": [
    "# train_gender_data_features.values()"
   ]
  },
  {
   "cell_type": "code",
   "execution_count": 14,
   "id": "53fea611",
   "metadata": {},
   "outputs": [
    {
     "data": {
      "text/plain": [
       "array(['Male', 'Male', 'Male', ..., 'Male', 'Male', 'Female'],\n",
       "      dtype=object)"
      ]
     },
     "execution_count": 14,
     "metadata": {},
     "output_type": "execute_result"
    }
   ],
   "source": [
    "np.array(train_target)"
   ]
  },
  {
   "cell_type": "code",
   "execution_count": 15,
   "id": "9ca218e6",
   "metadata": {},
   "outputs": [
    {
     "name": "stdout",
     "output_type": "stream",
     "text": [
      "Predicted Class ['Male'] \n",
      "\n",
      "Classification Report: Logistic Regression\n",
      "               precision    recall  f1-score   support\n",
      "\n",
      "        Male       0.94      0.93      0.94       479\n",
      "      Female       0.94      0.96      0.95       588\n",
      "\n",
      "    accuracy                           0.94      1067\n",
      "   macro avg       0.94      0.94      0.94      1067\n",
      "weighted avg       0.94      0.94      0.94      1067\n",
      "\n"
     ]
    }
   ],
   "source": [
    "logistic_regression_classifier = LogisticRegression(random_state=0)\n",
    "logistic_regression_classifier.fit(train_gender_data_features.to_numpy(), np.array(train_target))\n",
    "\n",
    "predicted_class = logistic_regression_classifier.predict(converted_features)\n",
    "print(\"Predicted Class\", predicted_class, \"\\n\")\n",
    "target_predict = logistic_regression_classifier.predict(test_gender_data_features)\n",
    "class_names = ['Male', 'Female']\n",
    "print(\"Classification Report: Logistic Regression\\n\", classification_report(test_target, target_predict, target_names=class_names))\n",
    "# print(\"Confusion Metric \",confusion_matrix(test_target, target_predict)) "
   ]
  },
  {
   "cell_type": "code",
   "execution_count": 16,
   "id": "e474c669",
   "metadata": {},
   "outputs": [
    {
     "name": "stdout",
     "output_type": "stream",
     "text": [
      "Predicted Class ['Male'] \n",
      "\n",
      "Classification Report: Naive Bayes\n",
      "               precision    recall  f1-score   support\n",
      "\n",
      "        Male       0.99      0.87      0.92       479\n",
      "      Female       0.90      0.99      0.94       588\n",
      "\n",
      "    accuracy                           0.94      1067\n",
      "   macro avg       0.94      0.93      0.93      1067\n",
      "weighted avg       0.94      0.94      0.93      1067\n",
      "\n"
     ]
    }
   ],
   "source": [
    "naive_bayes_classifier = MultinomialNB(alpha=1.9)\n",
    "naive_bayes_classifier.fit(train_gender_data_features.to_numpy(), np.array(train_target))\n",
    "\n",
    "\n",
    "predicted_class = naive_bayes_classifier.predict(converted_features)\n",
    "print(\"Predicted Class\", predicted_class, \"\\n\")\n",
    "target_predict = naive_bayes_classifier.predict(test_gender_data_features)\n",
    "class_names = ['Male', 'Female']\n",
    "print(\"Classification Report: Naive Bayes\\n\", classification_report(test_target, target_predict, target_names=class_names))\n",
    "# print(\"Confusion Metric \",confusion_matrix(test_target, target_predict)) "
   ]
  },
  {
   "cell_type": "code",
   "execution_count": null,
   "id": "ff9e12e2",
   "metadata": {},
   "outputs": [],
   "source": []
  }
 ],
 "metadata": {
  "kernelspec": {
   "display_name": "Python 3",
   "language": "python",
   "name": "python3"
  },
  "language_info": {
   "codemirror_mode": {
    "name": "ipython",
    "version": 3
   },
   "file_extension": ".py",
   "mimetype": "text/x-python",
   "name": "python",
   "nbconvert_exporter": "python",
   "pygments_lexer": "ipython3",
   "version": "3.8.8"
  }
 },
 "nbformat": 4,
 "nbformat_minor": 5
}
